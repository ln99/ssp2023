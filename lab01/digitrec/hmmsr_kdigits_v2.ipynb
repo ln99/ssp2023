{
 "cells": [
  {
   "cell_type": "markdown",
   "id": "2df169d8-4c37-4450-97b5-6cc781a2ae4a",
   "metadata": {},
   "source": [
    "# DEEE725 Speech Signal Processing Lab\n",
    "### 2023 Spring, Kyungpook National University \n",
    "### Instructor: Gil-Jin Jang"
   ]
  },
  {
   "cell_type": "markdown",
   "id": "09645527-0887-405f-9a9a-05da9cb45270",
   "metadata": {},
   "source": [
    "## Lab 01 Korean digit recognition using python-hmmlearn\n",
    "version 2, 2023/03/24\n",
    "source: [jayaram1125's github repository](https://github.com/jayaram1125/Single-Word-Speech-Recognition-using-GMM-HMM-)\n",
    "\n",
    "__update description:__\n",
    "\n",
    "1. assigns sound files 8 and 9 for test out of 0...9, the rest (0...7) are for training\n",
    "    no random selection for reproducibility\n",
    "2. folder structure change\n",
    "\n",
    "> segmented/${username}/${dnum}/kdigits${trial}-${dnum}.wav\n",
    "> > for example, for user \"gjang\", digit 2, recording trial 0 (1st)\n",
    "> > \"segmented/gjang/2/kdigits0-2.wav\""
   ]
  },
  {
   "cell_type": "code",
   "execution_count": 1,
   "id": "d2fbc717-5dc6-43a9-b7c3-9f8f2b06506f",
   "metadata": {
    "tags": []
   },
   "outputs": [],
   "source": [
    "# import necessary packages\n",
    "import numpy as np\n",
    "import matplotlib.pyplot as plt\n",
    "#from scikits.talkbox.features import mfcc\n",
    "#librosa.feature.mfcc(*, y=None, sr=22050, S=None, n_mfcc=20, dct_type=2, norm='ortho', lifter=0, **kwargs)[source]\n",
    "from librosa.feature import mfcc\n",
    "from scipy.io import wavfile\n",
    "from hmmlearn import hmm\n",
    "import numpy as np\n",
    "import os\n",
    "import warnings\n",
    "import scipy.stats as sp\n",
    "from time import time\n",
    "\n",
    "warnings.filterwarnings(\"ignore\")"
   ]
  },
  {
   "cell_type": "markdown",
   "id": "371acf2d-ddbd-411e-8134-1a44abcb4593",
   "metadata": {},
   "source": [
    "__hyperparameters__ - CHANGE THEM TO IMPROVE PERFORMANCE\n",
    "1. number of MFCC (feature dimension), try `num_mfcc` 6, 10, 13\n",
    "\n",
    "2. Parameters needed to train GMMHMM: number of HMM states, number of Gaussian mixtures, diagonal or full covariance matrix, etc."
   ]
  },
  {
   "cell_type": "code",
   "execution_count": 2,
   "id": "5764004d-1445-4762-9e67-a1cb8744faa6",
   "metadata": {
    "tags": []
   },
   "outputs": [],
   "source": [
    "# 1. number of MFCC (feature dimension)\n",
    "num_mfcc = 6\n",
    "#num_mfcc = 10\n",
    "#num_mfcc = 13\n",
    "# 2. Parameters needed to train GMMHMM\n",
    "m_num_of_HMMStates = 3  # number of states\n",
    "m_num_of_mixtures = 2  # number of mixtures for each hidden state\n",
    "m_covarianceType = 'diag'  # covariance type\n",
    "m_n_iter = 10  # number of iterations\n",
    "m_bakisLevel = 2"
   ]
  },
  {
   "cell_type": "code",
   "execution_count": 3,
   "id": "e0a7b0e8-fd5c-4e48-8a1b-ef1b71ae8115",
   "metadata": {
    "tags": []
   },
   "outputs": [],
   "source": [
    "# extract MFCC features\n",
    "def extmfcc(file):\n",
    "    samplerate, d = wavfile.read(file)\n",
    "    #features.append(mfcc(d, nwin=int(samplerate * 0.03), fs=samplerate, nceps= 6)[0])\n",
    "    x = np.float32(d)\n",
    "    hop=samplerate//100\n",
    "    mc = mfcc(y=x, sr=samplerate, n_mfcc=num_mfcc, hop_length=hop, win_length=hop*2)\n",
    "    return np.transpose(mc, (1,0))"
   ]
  },
  {
   "cell_type": "markdown",
   "id": "f11bc3d0-d556-40d1-b2af-46076a7431b7",
   "metadata": {
    "tags": []
   },
   "source": [
    "__load data files__\n",
    "\n",
    "1. find files: \n",
    "    for user `\"gjang\"`, digit 2, recording trial 0 (1st)\n",
    "    `\"segmented/gjang/2/kdigits0-2.wav\"`\n",
    "2. extract MFCC features for training and testing\n",
    "    for each digit, indexes 4 and 9 for test, and the rest for training"
   ]
  },
  {
   "cell_type": "code",
   "execution_count": 4,
   "id": "5369c97e-f05f-4853-9cf4-5a6a7235773f",
   "metadata": {
    "tags": []
   },
   "outputs": [
    {
     "name": "stdout",
     "output_type": "stream",
     "text": [
      "segmented/gjang/0/kdigits0-0.wav 0 (266, 6) training\n",
      "segmented/gjang/0/kdigits1-0.wav 0 (222, 6) training\n",
      "segmented/gjang/0/kdigits2-0.wav 0 (291, 6) training\n",
      "segmented/gjang/0/kdigits3-0.wav 0 (216, 6) training\n",
      "segmented/gjang/0/kdigits4-0.wav 0 (228, 6) testing\n",
      "segmented/gjang/0/kdigits5-0.wav 0 (270, 6) training\n",
      "segmented/gjang/0/kdigits6-0.wav 0 (291, 6) training\n",
      "segmented/gjang/0/kdigits7-0.wav 0 (403, 6) training\n",
      "segmented/gjang/0/kdigits8-0.wav 0 (320, 6) training\n",
      "segmented/gjang/0/kdigits9-0.wav 0 (318, 6) testing\n",
      "segmented/gjang/1/kdigits0-1.wav 1 (231, 6) training\n",
      "segmented/gjang/1/kdigits1-1.wav 1 (129, 6) training\n",
      "segmented/gjang/1/kdigits2-1.wav 1 (212, 6) training\n",
      "segmented/gjang/1/kdigits3-1.wav 1 (262, 6) training\n",
      "segmented/gjang/1/kdigits4-1.wav 1 (189, 6) testing\n",
      "segmented/gjang/1/kdigits5-1.wav 1 (235, 6) training\n",
      "segmented/gjang/1/kdigits6-1.wav 1 (231, 6) training\n",
      "segmented/gjang/1/kdigits7-1.wav 1 (281, 6) training\n",
      "segmented/gjang/1/kdigits8-1.wav 1 (338, 6) training\n",
      "segmented/gjang/1/kdigits9-1.wav 1 (300, 6) testing\n",
      "...\n",
      "\n",
      "Words spoken: ['0', '1', '2', '3', '4', '5', '6', '7', '8', '9']\n"
     ]
    }
   ],
   "source": [
    "#fpaths = []\n",
    "#labels = []\n",
    "spoken = []\n",
    "m_trainingsetfeatures = []\n",
    "m_trainingsetlabels = []\n",
    "m_testingsetfeatures = []\n",
    "m_testingsetlabels = []\n",
    "n_folds = 5   # 0...3 for training, 4 for testing\n",
    "\n",
    "apath = 'segmented'\n",
    "count = 0\n",
    "for username in os.listdir(apath):\n",
    "    apath2 = apath + '/' + username    # example: segmented/gjang\n",
    "    for ii in range(10):   #dnum in os.listdir(apath2):\n",
    "        dnum = str(ii)\n",
    "        apath3 = apath2 + '/' + dnum     # example: segmented/gjang/2\n",
    "        if dnum not in spoken:\n",
    "            spoken.append(dnum)\n",
    "        for trial in range(10):\n",
    "            file = apath3 + '/' + \"kdigits{}-{}.wav\".format(trial,dnum)      # segmented/gjang/2/kdigits0-2.wav\n",
    "            mc = extmfcc(file)\n",
    "\n",
    "            # display file names for the first 20 files only\n",
    "            count += 1\n",
    "            if count <= 20:\n",
    "                print(file, dnum, end=' '); print(mc.shape, end=' ')\n",
    "            elif count == 21:\n",
    "                print('...'); print('')\n",
    "\n",
    "            # 0...3 for training, 4 for testing\n",
    "            if trial % n_folds == (n_folds-1):\n",
    "                if count <= 20: print('testing')\n",
    "                m_testingsetfeatures.append(mc)\n",
    "                m_testingsetlabels.append(dnum)\n",
    "            else:\n",
    "                if count <= 20: print('training')\n",
    "                m_trainingsetfeatures.append(mc)\n",
    "                m_trainingsetlabels.append(dnum)\n",
    "\n",
    "\n",
    "print('Words spoken:', spoken)\n",
    "#print(\"number of labels and features = %d, %d\" % ( len(labels), len(features) ))\n",
    "#print(\"feature shape = \", end='')\n",
    "#print(features[0].shape)"
   ]
  },
  {
   "cell_type": "code",
   "execution_count": 5,
   "id": "60e1ff46-b49e-406f-bf74-907e128edd4d",
   "metadata": {
    "tags": []
   },
   "outputs": [],
   "source": [
    "# gjang: shuffling the data (x)\n",
    "# c = list(zip(features, labels))\n",
    "# np.random.shuffle(c)\n",
    "# features,labels = zip(*c)"
   ]
  },
  {
   "cell_type": "code",
   "execution_count": 6,
   "id": "a2ace1d5-9d79-4e98-8107-afabfc1660d0",
   "metadata": {
    "tags": []
   },
   "outputs": [
    {
     "name": "stdout",
     "output_type": "stream",
     "text": [
      "[training] number of labels and features = 80, 80\n",
      "[test] number of labels and features = 20, 20\n",
      "Loading data completed\n"
     ]
    }
   ],
   "source": [
    "# test and training for 100 files\n",
    "ntest  = len(m_testingsetlabels)\n",
    "ntrain = len(m_trainingsetlabels)\n",
    "nfiles = ntest + ntrain\n",
    "\n",
    "print(\"[training] number of labels and features = %d, %d\" % \n",
    "        ( len(m_trainingsetlabels), len(m_trainingsetfeatures)) )\n",
    "print(\"[test] number of labels and features = %d, %d\" % \n",
    "        ( len(m_testingsetlabels), len(m_testingsetfeatures)) )\n",
    "\n",
    "print ('Loading data completed')"
   ]
  },
  {
   "cell_type": "code",
   "execution_count": 7,
   "id": "f8e0b11b-70b4-453a-a631-23f4df66e346",
   "metadata": {
    "tags": []
   },
   "outputs": [
    {
     "name": "stdout",
     "output_type": "stream",
     "text": [
      "StartProbPrior=\n",
      "[1. 0. 0.]\n",
      "TransMatPrior=\n",
      "[[0.5 0.5 0. ]\n",
      " [0.  0.5 0.5]\n",
      " [0.  0.  1. ]]\n"
     ]
    }
   ],
   "source": [
    "# model initialization\n",
    "gmmhmmindexdict = {}\n",
    "index = 0\n",
    "for word in spoken:\n",
    "    gmmhmmindexdict[word] = index\n",
    "    index = index +1\n",
    "\n",
    "def initByBakis(inumstates, ibakisLevel):\n",
    "    startprobPrior = np.zeros(inumstates)\n",
    "    startprobPrior[0: ibakisLevel - 1] = 1/float((ibakisLevel - 1))\n",
    "    transmatPrior = getTransmatPrior(inumstates, ibakisLevel)\n",
    "    return startprobPrior, transmatPrior\n",
    "\n",
    "def getTransmatPrior(inumstates, ibakisLevel):\n",
    "    transmatPrior = (1 / float(ibakisLevel)) * np.eye(inumstates)\n",
    "\n",
    "    for i in range(inumstates - (ibakisLevel - 1)):\n",
    "        for j in range(ibakisLevel - 1):\n",
    "            transmatPrior[i, i + j + 1] = 1. / ibakisLevel\n",
    "\n",
    "    for i in range(inumstates - ibakisLevel + 1, inumstates):\n",
    "        for j in range(inumstates - i - j):\n",
    "            transmatPrior[i, i + j] = 1. / (inumstates - i)\n",
    "\n",
    "    return transmatPrior\n",
    "\n",
    "m_startprobPrior ,m_transmatPrior = initByBakis(m_num_of_HMMStates,m_bakisLevel)\n",
    "\n",
    "print(\"StartProbPrior=\")\n",
    "print(m_startprobPrior)\n",
    "\n",
    "print(\"TransMatPrior=\")\n",
    "print(m_transmatPrior)"
   ]
  },
  {
   "cell_type": "code",
   "execution_count": 8,
   "id": "bfe7d4a7-9011-46f7-8798-8c6010b99e13",
   "metadata": {
    "tags": []
   },
   "outputs": [],
   "source": [
    "# acoustic model definition\n",
    "class SpeechModel:\n",
    "    def __init__(self,Class,label):\n",
    "        self.traindata = np.zeros((0,num_mfcc))\n",
    "        self.Class = Class\n",
    "        self.label = label\n",
    "        self.model  = hmm.GMMHMM(n_components = m_num_of_HMMStates, n_mix = m_num_of_mixtures, \\\n",
    "                transmat_prior = m_transmatPrior, startprob_prior = m_startprobPrior, \\\n",
    "                covariance_type = m_covarianceType, n_iter = m_n_iter)"
   ]
  },
  {
   "cell_type": "code",
   "execution_count": 9,
   "id": "851705fb-4910-4f3d-a8a2-e3b2ab26d1f6",
   "metadata": {
    "tags": []
   },
   "outputs": [
    {
     "name": "stdout",
     "output_type": "stream",
     "text": [
      "Training completed -- 10 GMM-HMM models are built for 10 different types of words\n",
      "time elapsed: 19.78 seconds\n",
      " \n",
      " \n"
     ]
    }
   ],
   "source": [
    "# training GMMHMM Models \n",
    "start = time()\n",
    "\n",
    "speechmodels = [None] * len(spoken)\n",
    "for key in gmmhmmindexdict:\n",
    "    speechmodels[gmmhmmindexdict[key]] = SpeechModel(gmmhmmindexdict[key],key)\n",
    "\n",
    "for i in range(0,len(m_trainingsetfeatures)):\n",
    "     for j in range(0,len(speechmodels)):\n",
    "         if int(speechmodels[j].Class) == int(gmmhmmindexdict[m_trainingsetlabels[i]]):\n",
    "            speechmodels[j].traindata = np.concatenate((speechmodels[j].traindata , m_trainingsetfeatures[i]))\n",
    "\n",
    "for speechmodel in speechmodels:\n",
    "    speechmodel.model.fit(speechmodel.traindata)\n",
    "\n",
    "print ('Training completed -- {0} GMM-HMM models are built for {0} different types of words'.format(len(spoken)))\n",
    "print('time elapsed: %.2f seconds' % ( time() - start ))\n",
    "print (\" \"); print(\" \")"
   ]
  },
  {
   "cell_type": "code",
   "execution_count": 10,
   "id": "75739c76-9c05-4210-8e96-282dadd036e7",
   "metadata": {
    "tags": []
   },
   "outputs": [
    {
     "name": "stdout",
     "output_type": "stream",
     "text": [
      "Prediction started\n",
      "[-4972.822 -5302.009 -5280.65  -5228.55  -5381.846 -5190.518 -5077.571\n",
      " -5355.306 -5086.189 -5273.42 ] -4972.822 :0\n",
      "[-6872.99  -7303.117 -7337.985 -7135.205 -7380.618 -7080.457 -6988.068\n",
      " -7373.42  -6948.682 -7168.201] -6872.99 :0\n",
      "[-4522.783 -4198.668 -4653.116 -4684.291 -4892.336 -4334.099 -4364.667\n",
      " -4742.523 -4443.112 -4515.993] -4198.668 :1\n",
      "[-6881.595 -6569.895 -6997.281 -7085.501 -7312.743 -6687.811 -6699.438\n",
      " -7119.151 -6778.356 -6887.102] -6569.895 :1\n",
      "[-4033.262 -4164.371 -3936.343 -4099.433 -4092.416 -4089.772 -4054.873\n",
      " -4099.949 -4054.728 -4367.528] -3936.343 :2\n",
      "[-5364.    -5456.338 -5206.391 -5401.502 -5441.407 -5331.168 -5297.741\n",
      " -5382.797 -5347.156 -5513.784] -5206.391 :2\n",
      "[-4054.901 -4325.412 -4170.382 -4065.937 -4057.112 -4168.681 -4082.255\n",
      " -4226.582 -4143.508 -4270.511] -4054.901 :0\n",
      "[-5682.098 -5925.023 -5721.647 -5814.41  -5762.081 -5814.923 -5739.34\n",
      " -5871.699 -5761.708 -5971.43 ] -5682.098 :0\n",
      "[-3566.295 -3918.934 -3731.218 -3619.126 -3486.782 -3680.988 -3600.184\n",
      " -3652.653 -3672.573 -3773.481] -3486.782 :4\n",
      "[-4999.196 -5502.395 -5211.289 -5142.906 -4942.584 -5196.881 -5109.795\n",
      " -5074.538 -5151.125 -5321.241] -4942.584 :4\n",
      "[-4140.28  -4093.309 -4391.667 -4364.092 -4729.545 -3978.29  -3929.951\n",
      " -4514.508 -4085.508 -4023.634] -3929.951 :6\n",
      "[-5604.423 -5535.185 -5886.475 -5872.52  -6229.171 -5434.658 -5371.966\n",
      " -6015.417 -5581.176 -5498.974] -5371.966 :6\n",
      "[-3898.132 -4045.118 -4200.366 -4165.134 -4538.38  -3874.435 -3734.654\n",
      " -4343.7   -3905.942 -3917.588] -3734.654 :6\n",
      "[-5634.958 -5735.579 -5916.391 -5874.75  -6146.954 -5529.105 -5443.837\n",
      " -6045.542 -5586.887 -5626.819] -5443.837 :6\n",
      "[-4392.243 -4833.254 -4358.395 -4267.711 -4504.649 -4108.764 -4090.715\n",
      " -3727.733 -4294.73  -3986.954] -3727.733 :7\n",
      "[-6821.279 -7012.629 -6762.524 -6705.16  -6808.491 -6450.399 -6491.139\n",
      " -6090.357 -6546.12  -6315.706] -6090.357 :7\n",
      "[-3874.525 -4244.854 -4128.207 -4154.36  -4339.675 -4060.996 -3944.821\n",
      " -4341.435 -3958.534 -4173.91 ] -3874.525 :0\n",
      "[-5951.343 -6184.191 -6147.787 -6174.875 -6357.62  -6027.297 -5895.878\n",
      " -6306.162 -5949.284 -6119.723] -5895.878 :6\n",
      "[-4406.503 -4354.828 -4464.218 -4361.541 -4965.478 -3956.774 -3980.249\n",
      " -4016.263 -4204.97  -3661.653] -3661.653 :9\n",
      "[-7341.06  -7306.915 -7412.352 -7302.131 -7818.813 -6788.987 -6842.939\n",
      " -6737.662 -7057.066 -6454.299] -6454.299 :9\n",
      "\n",
      "Prediction for Testing DataSet:\n",
      "Label1:0\n",
      "Label2:0\n",
      "Label3:1\n",
      "Label4:1\n",
      "Label5:2\n",
      "Label6:2\n",
      "Label7:3\n",
      "Label8:3\n",
      "Label9:4\n",
      "Label10:4\n",
      "Label11:5\n",
      "Label12:5\n",
      "Label13:6\n",
      "Label14:6\n",
      "Label15:7\n",
      "Label16:7\n",
      "Label17:8\n",
      "Label18:8\n",
      "Label19:9\n",
      "Label20:9\n",
      "\n",
      "accuracy =70.0\n",
      "\n"
     ]
    }
   ],
   "source": [
    "# testing\n",
    "print(\"Prediction started\")\n",
    "m_PredictionlabelList = []\n",
    "\n",
    "for i in range(0,len(m_testingsetfeatures)):\n",
    "    scores = []\n",
    "    for speechmodel in speechmodels:\n",
    "         scores.append(speechmodel.model.score(m_testingsetfeatures[i]))\n",
    "    id  = scores.index(max(scores))\n",
    "    m_PredictionlabelList.append(speechmodels[id].Class)\n",
    "    print(str(np.round(scores, 3)) + \" \" + str(max(np.round(scores, 3))) +\" \"+\":\"+ speechmodels[id].label)\n",
    "\n",
    "accuracy = 0.0\n",
    "count = 0\n",
    "print(\"\")\n",
    "print(\"Prediction for Testing DataSet:\")\n",
    "\n",
    "for i in range(0,len(m_testingsetlabels)):\n",
    "    print( \"Label\"+str(i+1)+\":\"+m_testingsetlabels[i])\n",
    "    if gmmhmmindexdict[m_testingsetlabels[i]] == m_PredictionlabelList[i]:\n",
    "       count = count+1\n",
    "\n",
    "accuracy = 100.0*count/float(len(m_testingsetlabels))\n",
    "\n",
    "print(\"\")\n",
    "print(\"accuracy =\"+str(accuracy))\n",
    "print(\"\")\n",
    "\n",
    "# end of testing"
   ]
  },
  {
   "cell_type": "markdown",
   "id": "2f2cc10f-ae74-4d39-bcdb-5863f58cb805",
   "metadata": {},
   "source": [
    "## End of Lab 01"
   ]
  }
 ],
 "metadata": {
  "kernelspec": {
   "display_name": "Python 3 (ipykernel)",
   "language": "python",
   "name": "python3"
  },
  "language_info": {
   "codemirror_mode": {
    "name": "ipython",
    "version": 3
   },
   "file_extension": ".py",
   "mimetype": "text/x-python",
   "name": "python",
   "nbconvert_exporter": "python",
   "pygments_lexer": "ipython3",
   "version": "3.10.6"
  }
 },
 "nbformat": 4,
 "nbformat_minor": 5
}
