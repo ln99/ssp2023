{
 "cells": [
  {
   "cell_type": "markdown",
   "metadata": {},
   "source": [
    "# DEEE725 Speech Signal Processing Lab\n",
    "### 2023 Spring, Kyungpook National University \n",
    "### Instructor: Gil-Jin Jang"
   ]
  },
  {
   "cell_type": "markdown",
   "metadata": {},
   "source": [
    "## Lab 01 Korean digit recognition using python-hmmlearn\n",
    "version 2, 2023/03/24\n",
    "source: [jayaram1125's github repository](https://github.com/jayaram1125/Single-Word-Speech-Recognition-using-GMM-HMM-)\n",
    "\n",
    "__update description:__\n",
    "\n",
    "1. assigns sound files 8 and 9 for test out of 0...9, the rest (0...7) are for training\n",
    "    no random selection for reproducibility\n",
    "2. folder structure change\n",
    "\n",
    "> segmented/${username}/${dnum}/kdigits${trial}-${dnum}.wav\n",
    "> > for example, for user \"gjang\", digit 2, recording trial 0 (1st)\n",
    "> > \"segmented/gjang/2/kdigits0-2.wav\""
   ]
  },
  {
   "cell_type": "code",
   "execution_count": 1,
   "metadata": {
    "tags": []
   },
   "outputs": [],
   "source": [
    "# import necessary packages\n",
    "import numpy as np\n",
    "import matplotlib.pyplot as plt\n",
    "#from scikits.talkbox.features import mfcc\n",
    "#librosa.feature.mfcc(*, y=None, sr=22050, S=None, n_mfcc=20, dct_type=2, norm='ortho', lifter=0, **kwargs)[source]\n",
    "from librosa.feature import mfcc\n",
    "from scipy.io import wavfile\n",
    "from hmmlearn import hmm\n",
    "import numpy as np\n",
    "import os\n",
    "import warnings\n",
    "import scipy.stats as sp\n",
    "from time import time\n",
    "\n",
    "warnings.filterwarnings(\"ignore\")"
   ]
  },
  {
   "cell_type": "markdown",
   "metadata": {},
   "source": [
    "__hyperparameters__ - CHANGE THEM TO IMPROVE PERFORMANCE\n",
    "1. number of MFCC (feature dimension), try `num_mfcc` 6, 10, 13\n",
    "\n",
    "2. Parameters needed to train GMMHMM: number of HMM states, number of Gaussian mixtures, diagonal or full covariance matrix, etc."
   ]
  },
  {
   "cell_type": "code",
   "execution_count": 2,
   "metadata": {
    "tags": []
   },
   "outputs": [],
   "source": [
    "# 1. number of MFCC (feature dimension)\n",
    "num_mfcc = 6\n",
    "#num_mfcc = 10\n",
    "#num_mfcc = 13\n",
    "# 2. Parameters needed to train GMMHMM\n",
    "m_num_of_HMMStates = 3  # number of states\n",
    "m_num_of_mixtures = 2  # number of mixtures for each hidden state\n",
    "m_covarianceType = 'diag'  # covariance type\n",
    "m_n_iter = 10  # number of iterations\n",
    "m_bakisLevel = 2"
   ]
  },
  {
   "cell_type": "code",
   "execution_count": 3,
   "metadata": {
    "tags": []
   },
   "outputs": [],
   "source": [
    "# extract MFCC features\n",
    "def extmfcc(file):\n",
    "    samplerate, d = wavfile.read(file)\n",
    "    #features.append(mfcc(d, nwin=int(samplerate * 0.03), fs=samplerate, nceps= 6)[0])\n",
    "    x = np.float32(d)\n",
    "    hop=samplerate//100\n",
    "    mc = mfcc(y=x, sr=samplerate, n_mfcc=num_mfcc, hop_length=hop, win_length=hop*2)\n",
    "    return np.transpose(mc, (1,0))"
   ]
  },
  {
   "cell_type": "markdown",
   "metadata": {
    "tags": []
   },
   "source": [
    "__load data files__\n",
    "\n",
    "1. find files: \n",
    "    for user `\"gjang\"`, digit 2, recording trial 0 (1st)\n",
    "    `\"segmented/gjang/2/kdigits0-2.wav\"`\n",
    "2. extract MFCC features for training and testing\n",
    "    for each digit, indexes 4 and 9 for test, and the rest for training"
   ]
  },
  {
   "cell_type": "code",
   "execution_count": 7,
   "metadata": {
    "tags": []
   },
   "outputs": [
    {
     "name": "stdout",
     "output_type": "stream",
     "text": [
      "segmented/InkooJeon/0/kdigits0-0.wav 0 (255, 6) training\n",
      "segmented/InkooJeon/0/kdigits1-0.wav 0 (233, 6) training\n",
      "segmented/InkooJeon/0/kdigits2-0.wav 0 (265, 6) training\n",
      "segmented/InkooJeon/0/kdigits3-0.wav 0 (240, 6) training\n",
      "segmented/InkooJeon/0/kdigits4-0.wav 0 (249, 6) testing\n",
      "segmented/InkooJeon/0/kdigits5-0.wav 0 (263, 6) training\n",
      "segmented/InkooJeon/0/kdigits6-0.wav 0 (272, 6) training\n",
      "segmented/InkooJeon/0/kdigits7-0.wav 0 (263, 6) training\n",
      "segmented/InkooJeon/0/kdigits8-0.wav 0 (254, 6) training\n",
      "segmented/InkooJeon/0/kdigits9-0.wav 0 (230, 6) testing\n",
      "segmented/InkooJeon/1/kdigits0-1.wav 1 (250, 6) training\n",
      "segmented/InkooJeon/1/kdigits1-1.wav 1 (242, 6) training\n",
      "segmented/InkooJeon/1/kdigits2-1.wav 1 (248, 6) training\n",
      "segmented/InkooJeon/1/kdigits3-1.wav 1 (252, 6) training\n",
      "segmented/InkooJeon/1/kdigits4-1.wav 1 (228, 6) testing\n",
      "segmented/InkooJeon/1/kdigits5-1.wav 1 (257, 6) training\n",
      "segmented/InkooJeon/1/kdigits6-1.wav 1 (252, 6) training\n",
      "segmented/InkooJeon/1/kdigits7-1.wav 1 (260, 6) training\n",
      "segmented/InkooJeon/1/kdigits8-1.wav 1 (249, 6) training\n",
      "segmented/InkooJeon/1/kdigits9-1.wav 1 (234, 6) testing\n",
      "...\n",
      "\n",
      "Words spoken: ['0', '1', '2', '3', '4', '5', '6', '7', '8', '9']\n"
     ]
    }
   ],
   "source": [
    "#fpaths = []\n",
    "#labels = []\n",
    "spoken = []\n",
    "m_trainingsetfeatures = []\n",
    "m_trainingsetlabels = []\n",
    "m_testingsetfeatures = []\n",
    "m_testingsetlabels = []\n",
    "n_folds = 5   # 0...3 for training, 4 for testing\n",
    "\n",
    "apath = 'segmented'\n",
    "count = 0\n",
    "for username in os.listdir(apath):\n",
    "    apath2 = apath + '/InkooJeon'  # example: segmented/gjang\n",
    "    for ii in range(10):   #dnum in os.listdir(apath2):\n",
    "        dnum = str(ii)\n",
    "        apath3 = apath2 + '/' + dnum     # example: segmented/gjang/2\n",
    "        if dnum not in spoken:\n",
    "            spoken.append(dnum)\n",
    "        for trial in range(10):\n",
    "            file = apath3 + '/' + \"kdigits{}-{}.wav\".format(trial,dnum)      # segmented/gjang/2/kdigits0-2.wav\n",
    "            mc = extmfcc(file)\n",
    "\n",
    "            # display file names for the first 20 files only\n",
    "            count += 1\n",
    "            if count <= 20:\n",
    "                print(file, dnum, end=' '); print(mc.shape, end=' ')\n",
    "            elif count == 21:\n",
    "                print('...'); print('')\n",
    "\n",
    "            # 0...3 for training, 4 for testing\n",
    "            if trial % n_folds == (n_folds-1):\n",
    "                if count <= 20: print('testing')\n",
    "                m_testingsetfeatures.append(mc)\n",
    "                m_testingsetlabels.append(dnum)\n",
    "            else:\n",
    "                if count <= 20: print('training')\n",
    "                m_trainingsetfeatures.append(mc)\n",
    "                m_trainingsetlabels.append(dnum)\n",
    "\n",
    "\n",
    "print('Words spoken:', spoken)\n",
    "#print(\"number of labels and features = %d, %d\" % ( len(labels), len(features) ))\n",
    "#print(\"feature shape = \", end='')\n",
    "#print(features[0].shape)"
   ]
  },
  {
   "cell_type": "code",
   "execution_count": 5,
   "metadata": {
    "tags": []
   },
   "outputs": [],
   "source": [
    "# gjang: shuffling the data (x)\n",
    "# c = list(zip(features, labels))\n",
    "# np.random.shuffle(c)\n",
    "# features,labels = zip(*c)"
   ]
  },
  {
   "cell_type": "code",
   "execution_count": 8,
   "metadata": {
    "tags": []
   },
   "outputs": [
    {
     "name": "stdout",
     "output_type": "stream",
     "text": [
      "[training] number of labels and features = 160, 160\n",
      "[test] number of labels and features = 40, 40\n",
      "Loading data completed\n"
     ]
    }
   ],
   "source": [
    "# test and training for 100 files\n",
    "ntest  = len(m_testingsetlabels)\n",
    "ntrain = len(m_trainingsetlabels)\n",
    "nfiles = ntest + ntrain\n",
    "\n",
    "print(\"[training] number of labels and features = %d, %d\" % \n",
    "        ( len(m_trainingsetlabels), len(m_trainingsetfeatures)) )\n",
    "print(\"[test] number of labels and features = %d, %d\" % \n",
    "        ( len(m_testingsetlabels), len(m_testingsetfeatures)) )\n",
    "\n",
    "print ('Loading data completed')"
   ]
  },
  {
   "cell_type": "code",
   "execution_count": 9,
   "metadata": {
    "tags": []
   },
   "outputs": [
    {
     "name": "stdout",
     "output_type": "stream",
     "text": [
      "StartProbPrior=\n",
      "[1. 0. 0.]\n",
      "TransMatPrior=\n",
      "[[0.5 0.5 0. ]\n",
      " [0.  0.5 0.5]\n",
      " [0.  0.  1. ]]\n"
     ]
    }
   ],
   "source": [
    "# model initialization\n",
    "gmmhmmindexdict = {}\n",
    "index = 0\n",
    "for word in spoken:\n",
    "    gmmhmmindexdict[word] = index\n",
    "    index = index +1\n",
    "\n",
    "def initByBakis(inumstates, ibakisLevel):\n",
    "    startprobPrior = np.zeros(inumstates)\n",
    "    startprobPrior[0: ibakisLevel - 1] = 1/float((ibakisLevel - 1))\n",
    "    transmatPrior = getTransmatPrior(inumstates, ibakisLevel)\n",
    "    return startprobPrior, transmatPrior\n",
    "\n",
    "def getTransmatPrior(inumstates, ibakisLevel):\n",
    "    transmatPrior = (1 / float(ibakisLevel)) * np.eye(inumstates)\n",
    "\n",
    "    for i in range(inumstates - (ibakisLevel - 1)):\n",
    "        for j in range(ibakisLevel - 1):\n",
    "            transmatPrior[i, i + j + 1] = 1. / ibakisLevel\n",
    "\n",
    "    for i in range(inumstates - ibakisLevel + 1, inumstates):\n",
    "        for j in range(inumstates - i - j):\n",
    "            transmatPrior[i, i + j] = 1. / (inumstates - i)\n",
    "\n",
    "    return transmatPrior\n",
    "\n",
    "m_startprobPrior ,m_transmatPrior = initByBakis(m_num_of_HMMStates,m_bakisLevel)\n",
    "\n",
    "print(\"StartProbPrior=\")\n",
    "print(m_startprobPrior)\n",
    "\n",
    "print(\"TransMatPrior=\")\n",
    "print(m_transmatPrior)"
   ]
  },
  {
   "cell_type": "code",
   "execution_count": 10,
   "metadata": {
    "tags": []
   },
   "outputs": [],
   "source": [
    "# acoustic model definition\n",
    "class SpeechModel:\n",
    "    def __init__(self,Class,label):\n",
    "        self.traindata = np.zeros((0,num_mfcc))\n",
    "        self.Class = Class\n",
    "        self.label = label\n",
    "        self.model  = hmm.GMMHMM(n_components = m_num_of_HMMStates, n_mix = m_num_of_mixtures, \\\n",
    "                transmat_prior = m_transmatPrior, startprob_prior = m_startprobPrior, \\\n",
    "                covariance_type = m_covarianceType, n_iter = m_n_iter)"
   ]
  },
  {
   "cell_type": "code",
   "execution_count": 11,
   "metadata": {
    "tags": []
   },
   "outputs": [
    {
     "name": "stdout",
     "output_type": "stream",
     "text": [
      "Training completed -- 10 GMM-HMM models are built for 10 different types of words\n",
      "time elapsed: 2.88 seconds\n",
      " \n",
      " \n"
     ]
    }
   ],
   "source": [
    "# training GMMHMM Models \n",
    "start = time()\n",
    "\n",
    "speechmodels = [None] * len(spoken)\n",
    "for key in gmmhmmindexdict:\n",
    "    speechmodels[gmmhmmindexdict[key]] = SpeechModel(gmmhmmindexdict[key],key)\n",
    "\n",
    "for i in range(0,len(m_trainingsetfeatures)):\n",
    "     for j in range(0,len(speechmodels)):\n",
    "         if int(speechmodels[j].Class) == int(gmmhmmindexdict[m_trainingsetlabels[i]]):\n",
    "            speechmodels[j].traindata = np.concatenate((speechmodels[j].traindata , m_trainingsetfeatures[i]))\n",
    "\n",
    "for speechmodel in speechmodels:\n",
    "    speechmodel.model.fit(speechmodel.traindata)\n",
    "\n",
    "print ('Training completed -- {0} GMM-HMM models are built for {0} different types of words'.format(len(spoken)))\n",
    "print('time elapsed: %.2f seconds' % ( time() - start ))\n",
    "print (\" \"); print(\" \")"
   ]
  },
  {
   "cell_type": "code",
   "execution_count": 12,
   "metadata": {
    "tags": []
   },
   "outputs": [
    {
     "name": "stdout",
     "output_type": "stream",
     "text": [
      "Prediction started\n",
      "[-5253.36  -6027.844 -5852.476 -5722.562 -6091.527 -6408.8   -5695.402\n",
      " -6063.451 -5608.526 -6441.356] -5253.36 :0\n",
      "[-4767.463 -6118.811 -5161.923 -6114.625 -5873.632 -7626.33  -6244.736\n",
      " -5045.786 -5483.637 -5487.957] -4767.463 :0\n",
      "[-5797.117 -4798.587 -5619.514 -6163.144 -7306.525 -6030.04  -5597.889\n",
      " -6193.928 -5415.033 -5256.874] -4798.587 :1\n",
      "[-5479.052 -4736.774 -5274.891 -5845.658 -6752.414 -5861.56  -5348.754\n",
      " -5881.631 -5197.124 -5032.905] -4736.774 :1\n",
      "[-5976.79  -5920.333 -5250.549 -5573.115 -5728.126 -5930.256 -5647.118\n",
      " -6256.04  -5806.39  -6232.021] -5250.549 :2\n",
      "[-5009.423 -5490.626 -4738.527 -5863.988 -5667.775 -7294.94  -5972.137\n",
      " -5251.589 -5271.709 -5345.183] -4738.527 :2\n",
      "[-5253.23  -5697.505 -5325.489 -5437.068 -5567.454 -6492.305 -5697.338\n",
      " -5494.429 -5290.09  -5624.927] -5253.23 :0\n",
      "[-5445.581 -5888.076 -5577.935 -5430.585 -5594.951 -6294.467 -5730.319\n",
      " -5774.378 -5466.383 -5808.417] -5430.585 :3\n",
      "[-6019.213 -6273.133 -5800.965 -5576.424 -5373.407 -5929.529 -5602.42\n",
      " -6206.778 -5864.223 -6250.413] -5373.407 :4\n",
      "[-5154.556 -5783.114 -5341.836 -5401.908 -5088.479 -6498.898 -5659.\n",
      " -5371.662 -5200.575 -5660.106] -5088.479 :4\n",
      "[-6649.758 -6078.036 -6323.605 -6186.42  -6893.613 -5534.03  -5659.008\n",
      " -6814.097 -6479.121 -5967.645] -5534.03 :5\n",
      "[-6184.564 -5815.182 -5966.819 -6341.547 -7117.322 -6196.035 -5778.195\n",
      " -6430.224 -5914.489 -5685.524] -5685.524 :9\n",
      "[-6717.069 -6354.2   -6471.366 -6132.433 -6809.623 -5812.359 -5822.271\n",
      " -6850.194 -6534.455 -6282.103] -5812.359 :5\n",
      "[-6391.741 -6367.933 -6043.394 -6664.853 -6977.067 -7219.899 -6340.493\n",
      " -6509.616 -6182.312 -6095.207] -6043.394 :2\n",
      "[-6037.184 -6873.781 -6255.957 -7430.071 -7490.397 -8940.318 -7243.639\n",
      " -5606.694 -6520.331 -5893.812] -5606.694 :7\n",
      "[-7936.242 -8344.456 -8099.069 -8065.618 -9787.087 -8492.098 -9302.887\n",
      " -5867.356 -7940.042 -6167.837] -5867.356 :7\n",
      "[-5155.517 -5693.601 -5229.165 -5629.534 -5854.023 -6675.875 -5635.706\n",
      " -5704.762 -5074.645 -5620.437] -5074.645 :8\n",
      "[-5677.595 -6797.333 -5907.274 -6633.3   -6795.372 -8387.575 -6695.229\n",
      " -6124.251 -5872.062 -6213.184] -5677.595 :0\n",
      "[-6986.069 -7491.675 -6648.56  -8446.964 -8892.35  -8344.564 -8031.995\n",
      " -6041.37  -7827.046 -5513.768] -5513.768 :9\n",
      "[-6588.232 -6759.552 -6292.568 -7850.603 -8263.054 -8095.925 -7176.225\n",
      " -5904.171 -6931.011 -5200.316] -5200.316 :9\n",
      "[-5253.36  -6027.844 -5852.476 -5722.562 -6091.527 -6408.8   -5695.402\n",
      " -6063.451 -5608.526 -6441.356] -5253.36 :0\n",
      "[-4767.463 -6118.811 -5161.923 -6114.625 -5873.632 -7626.33  -6244.736\n",
      " -5045.786 -5483.637 -5487.957] -4767.463 :0\n",
      "[-5797.117 -4798.587 -5619.514 -6163.144 -7306.525 -6030.04  -5597.889\n",
      " -6193.928 -5415.033 -5256.874] -4798.587 :1\n",
      "[-5479.052 -4736.774 -5274.891 -5845.658 -6752.414 -5861.56  -5348.754\n",
      " -5881.631 -5197.124 -5032.905] -4736.774 :1\n",
      "[-5976.79  -5920.333 -5250.549 -5573.115 -5728.126 -5930.256 -5647.118\n",
      " -6256.04  -5806.39  -6232.021] -5250.549 :2\n",
      "[-5009.423 -5490.626 -4738.527 -5863.988 -5667.775 -7294.94  -5972.137\n",
      " -5251.589 -5271.709 -5345.183] -4738.527 :2\n",
      "[-5253.23  -5697.505 -5325.489 -5437.068 -5567.454 -6492.305 -5697.338\n",
      " -5494.429 -5290.09  -5624.927] -5253.23 :0\n",
      "[-5445.581 -5888.076 -5577.935 -5430.585 -5594.951 -6294.467 -5730.319\n",
      " -5774.378 -5466.383 -5808.417] -5430.585 :3\n",
      "[-6019.213 -6273.133 -5800.965 -5576.424 -5373.407 -5929.529 -5602.42\n",
      " -6206.778 -5864.223 -6250.413] -5373.407 :4\n",
      "[-5154.556 -5783.114 -5341.836 -5401.908 -5088.479 -6498.898 -5659.\n",
      " -5371.662 -5200.575 -5660.106] -5088.479 :4\n",
      "[-6649.758 -6078.036 -6323.605 -6186.42  -6893.613 -5534.03  -5659.008\n",
      " -6814.097 -6479.121 -5967.645] -5534.03 :5\n",
      "[-6184.564 -5815.182 -5966.819 -6341.547 -7117.322 -6196.035 -5778.195\n",
      " -6430.224 -5914.489 -5685.524] -5685.524 :9\n",
      "[-6717.069 -6354.2   -6471.366 -6132.433 -6809.623 -5812.359 -5822.271\n",
      " -6850.194 -6534.455 -6282.103] -5812.359 :5\n",
      "[-6391.741 -6367.933 -6043.394 -6664.853 -6977.067 -7219.899 -6340.493\n",
      " -6509.616 -6182.312 -6095.207] -6043.394 :2\n",
      "[-6037.184 -6873.781 -6255.957 -7430.071 -7490.397 -8940.318 -7243.639\n",
      " -5606.694 -6520.331 -5893.812] -5606.694 :7\n",
      "[-7936.242 -8344.456 -8099.069 -8065.618 -9787.087 -8492.098 -9302.887\n",
      " -5867.356 -7940.042 -6167.837] -5867.356 :7\n",
      "[-5155.517 -5693.601 -5229.165 -5629.534 -5854.023 -6675.875 -5635.706\n",
      " -5704.762 -5074.645 -5620.437] -5074.645 :8\n",
      "[-5677.595 -6797.333 -5907.274 -6633.3   -6795.372 -8387.575 -6695.229\n",
      " -6124.251 -5872.062 -6213.184] -5677.595 :0\n",
      "[-6986.069 -7491.675 -6648.56  -8446.964 -8892.35  -8344.564 -8031.995\n",
      " -6041.37  -7827.046 -5513.768] -5513.768 :9\n",
      "[-6588.232 -6759.552 -6292.568 -7850.603 -8263.054 -8095.925 -7176.225\n",
      " -5904.171 -6931.011 -5200.316] -5200.316 :9\n",
      "\n",
      "Prediction for Testing DataSet:\n",
      "Label1:0\n",
      "Label2:0\n",
      "Label3:1\n",
      "Label4:1\n",
      "Label5:2\n",
      "Label6:2\n",
      "Label7:3\n",
      "Label8:3\n",
      "Label9:4\n",
      "Label10:4\n",
      "Label11:5\n",
      "Label12:5\n",
      "Label13:6\n",
      "Label14:6\n",
      "Label15:7\n",
      "Label16:7\n",
      "Label17:8\n",
      "Label18:8\n",
      "Label19:9\n",
      "Label20:9\n",
      "Label21:0\n",
      "Label22:0\n",
      "Label23:1\n",
      "Label24:1\n",
      "Label25:2\n",
      "Label26:2\n",
      "Label27:3\n",
      "Label28:3\n",
      "Label29:4\n",
      "Label30:4\n",
      "Label31:5\n",
      "Label32:5\n",
      "Label33:6\n",
      "Label34:6\n",
      "Label35:7\n",
      "Label36:7\n",
      "Label37:8\n",
      "Label38:8\n",
      "Label39:9\n",
      "Label40:9\n",
      "\n",
      "accuracy =75.0\n",
      "\n"
     ]
    }
   ],
   "source": [
    "# testing\n",
    "print(\"Prediction started\")\n",
    "m_PredictionlabelList = []\n",
    "\n",
    "for i in range(0,len(m_testingsetfeatures)):\n",
    "    scores = []\n",
    "    for speechmodel in speechmodels:\n",
    "         scores.append(speechmodel.model.score(m_testingsetfeatures[i]))\n",
    "    id  = scores.index(max(scores))\n",
    "    m_PredictionlabelList.append(speechmodels[id].Class)\n",
    "    print(str(np.round(scores, 3)) + \" \" + str(max(np.round(scores, 3))) +\" \"+\":\"+ speechmodels[id].label)\n",
    "\n",
    "accuracy = 0.0\n",
    "count = 0\n",
    "print(\"\")\n",
    "print(\"Prediction for Testing DataSet:\")\n",
    "\n",
    "for i in range(0,len(m_testingsetlabels)):\n",
    "    print( \"Label\"+str(i+1)+\":\"+m_testingsetlabels[i])\n",
    "    if gmmhmmindexdict[m_testingsetlabels[i]] == m_PredictionlabelList[i]:\n",
    "       count = count+1\n",
    "\n",
    "accuracy = 100.0*count/float(len(m_testingsetlabels))\n",
    "\n",
    "print(\"\")\n",
    "print(\"accuracy =\"+str(accuracy))\n",
    "print(\"\")\n",
    "\n",
    "# end of testing"
   ]
  },
  {
   "cell_type": "markdown",
   "metadata": {},
   "source": [
    "## End of Lab 01"
   ]
  }
 ],
 "metadata": {
  "kernelspec": {
   "display_name": "Python 3",
   "language": "python",
   "name": "python3"
  },
  "language_info": {
   "codemirror_mode": {
    "name": "ipython",
    "version": 3
   },
   "file_extension": ".py",
   "mimetype": "text/x-python",
   "name": "python",
   "nbconvert_exporter": "python",
   "pygments_lexer": "ipython3",
   "version": "3.8.3"
  }
 },
 "nbformat": 4,
 "nbformat_minor": 5
}
